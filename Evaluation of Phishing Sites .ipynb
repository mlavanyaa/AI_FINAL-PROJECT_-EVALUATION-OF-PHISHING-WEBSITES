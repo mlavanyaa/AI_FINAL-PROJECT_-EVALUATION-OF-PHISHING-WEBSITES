{
 "cells": [
  {
   "cell_type": "code",
   "execution_count": 1,
   "id": "e614a97a",
   "metadata": {},
   "outputs": [],
   "source": [
    "import pandas as pd\n",
    "import numpy as np\n",
    "import sklearn as sc"
   ]
  },
  {
   "cell_type": "code",
   "execution_count": 2,
   "id": "b33e6a16",
   "metadata": {},
   "outputs": [],
   "source": [
    "from sklearn.metrics import log_loss as lg\n",
    "from sklearn.metrics import confusion_matrix as conf\n",
    "from sklearn.metrics import recall_score as rec\n",
    "from sklearn.metrics import precision_score as pre\n",
    "from sklearn.metrics import accuracy_score"
   ]
  },
  {
   "cell_type": "code",
   "execution_count": 3,
   "id": "77608c5c",
   "metadata": {},
   "outputs": [],
   "source": [
    "accuracy = []\n",
    "model = []"
   ]
  },
  {
   "cell_type": "code",
   "execution_count": 4,
   "id": "1a002a8d",
   "metadata": {},
   "outputs": [
    {
     "name": "stdout",
     "output_type": "stream",
     "text": [
      "(58645, 112)\n",
      "(88647, 112)\n"
     ]
    }
   ],
   "source": [
    "df_train = pd.read_csv(\"phishing_data_small.csv\")\n",
    "df_test = pd.read_csv(\"phishing_data_large.csv\")\n",
    "print(df_train.shape)\n",
    "print(df_test.shape)"
   ]
  },
  {
   "cell_type": "code",
   "execution_count": 5,
   "id": "594e0aec",
   "metadata": {},
   "outputs": [
    {
     "data": {
      "text/plain": [
       "(58645, 111)"
      ]
     },
     "execution_count": 5,
     "metadata": {},
     "output_type": "execute_result"
    }
   ],
   "source": [
    "X_train = df_train.iloc[:, 0:111]\n",
    "X_train.shape"
   ]
  },
  {
   "cell_type": "code",
   "execution_count": 6,
   "id": "a1419527",
   "metadata": {},
   "outputs": [
    {
     "data": {
      "text/plain": [
       "(58645, 1)"
      ]
     },
     "execution_count": 6,
     "metadata": {},
     "output_type": "execute_result"
    }
   ],
   "source": [
    "Y_train = df_train.iloc[:, 111:112]\n",
    "Y_train.shape"
   ]
  },
  {
   "cell_type": "code",
   "execution_count": 7,
   "id": "3fe500a4",
   "metadata": {},
   "outputs": [
    {
     "data": {
      "text/plain": [
       "(88647, 111)"
      ]
     },
     "execution_count": 7,
     "metadata": {},
     "output_type": "execute_result"
    }
   ],
   "source": [
    "X_test = df_test.iloc[:, 0:111]\n",
    "X_test.shape"
   ]
  },
  {
   "cell_type": "code",
   "execution_count": 8,
   "id": "cfadcb71",
   "metadata": {},
   "outputs": [
    {
     "data": {
      "text/plain": [
       "(88647, 1)"
      ]
     },
     "execution_count": 8,
     "metadata": {},
     "output_type": "execute_result"
    }
   ],
   "source": [
    "Y_test = df_test.iloc[:, 111:112]\n",
    "Y_test.shape"
   ]
  },
  {
   "cell_type": "code",
   "execution_count": 9,
   "id": "049fd908",
   "metadata": {},
   "outputs": [],
   "source": [
    "# from sklearn.model_selection import train_test_split\n",
    "# X_train, X_test, Y_train, Y_test = train_test_split(X, Y, test_size=0.2)"
   ]
  },
  {
   "cell_type": "code",
   "execution_count": 10,
   "id": "8d91634d",
   "metadata": {},
   "outputs": [
    {
     "name": "stdout",
     "output_type": "stream",
     "text": [
      "X_train.shape: (58645, 111)\n",
      "Y_train.shape: (58645, 1)\n",
      "X_test.shape: (88647, 111)\n",
      "Y_test.shape: (88647, 1)\n"
     ]
    }
   ],
   "source": [
    "print(\"X_train.shape: \"+str(X_train.shape))\n",
    "print(\"Y_train.shape: \"+str(Y_train.shape))\n",
    "print(\"X_test.shape: \"+str(X_test.shape))\n",
    "print(\"Y_test.shape: \"+str(Y_test.shape))"
   ]
  },
  {
   "cell_type": "markdown",
   "id": "9ae50e42",
   "metadata": {},
   "source": [
    "## KNN Classifier"
   ]
  },
  {
   "cell_type": "code",
   "execution_count": 11,
   "id": "e822fdcf",
   "metadata": {},
   "outputs": [],
   "source": [
    "from sklearn.neighbors import KNeighborsClassifier as knn"
   ]
  },
  {
   "cell_type": "code",
   "execution_count": 12,
   "id": "4f0a04f5",
   "metadata": {},
   "outputs": [],
   "source": [
    "KNN_Model = knn(n_neighbors=5, leaf_size=300)"
   ]
  },
  {
   "cell_type": "code",
   "execution_count": 13,
   "id": "54b3c428",
   "metadata": {},
   "outputs": [
    {
     "data": {
      "text/plain": [
       "KNeighborsClassifier(leaf_size=300)"
      ]
     },
     "execution_count": 13,
     "metadata": {},
     "output_type": "execute_result"
    }
   ],
   "source": [
    "KNN_Model.fit(X_train, Y_train.values.ravel())"
   ]
  },
  {
   "cell_type": "code",
   "execution_count": 14,
   "id": "dbb3fc38",
   "metadata": {},
   "outputs": [
    {
     "name": "stdout",
     "output_type": "stream",
     "text": [
      "Y_pred shape: (88647,)\n"
     ]
    }
   ],
   "source": [
    "Y_pred = KNN_Model.predict(X_test)\n",
    "print(\"Y_pred shape: \"+str(Y_pred.shape))"
   ]
  },
  {
   "cell_type": "code",
   "execution_count": 15,
   "id": "0d00f736",
   "metadata": {},
   "outputs": [
    {
     "name": "stdout",
     "output_type": "stream",
     "text": [
      "Y_pred shape: (88647, 1)\n"
     ]
    }
   ],
   "source": [
    "Y_pred = Y_pred.reshape(Y_pred.shape[0], 1)\n",
    "print(\"Y_pred shape: \"+str(Y_pred.shape))"
   ]
  },
  {
   "cell_type": "code",
   "execution_count": 16,
   "id": "0a64b468",
   "metadata": {},
   "outputs": [
    {
     "data": {
      "text/plain": [
       "array([[48648,  9352],\n",
       "       [ 2620, 28027]], dtype=int64)"
      ]
     },
     "execution_count": 16,
     "metadata": {},
     "output_type": "execute_result"
    }
   ],
   "source": [
    "cnf = conf(Y_test, Y_pred)\n",
    "cnf"
   ]
  },
  {
   "cell_type": "code",
   "execution_count": 17,
   "id": "a8730319",
   "metadata": {},
   "outputs": [
    {
     "name": "stdout",
     "output_type": "stream",
     "text": [
      "Precision Score: 0.8493510191641891\n",
      "Recall Score: 0.8766345066119989\n",
      "Accuracy Score: 0.8649474883526798\n"
     ]
    }
   ],
   "source": [
    "print(\"Precision Score: \"+str(pre(Y_test, Y_pred, average=\"macro\")))\n",
    "print(\"Recall Score: \"+str(rec(Y_test, Y_pred, average=\"macro\")))\n",
    "print(\"Accuracy Score: \"+str(accuracy_score(Y_test, Y_pred)))"
   ]
  },
  {
   "cell_type": "code",
   "execution_count": 18,
   "id": "5d7f0b49",
   "metadata": {},
   "outputs": [],
   "source": [
    "model.append(\"KNN\")\n",
    "accuracy.append(accuracy_score(Y_test, Y_pred))"
   ]
  },
  {
   "cell_type": "code",
   "execution_count": 19,
   "id": "a2461ba9",
   "metadata": {},
   "outputs": [],
   "source": [
    "# acc = lg(Y_train, Y_pred)\n",
    "# print(\"The ACCURACY is: \"+str(acc))"
   ]
  },
  {
   "cell_type": "markdown",
   "id": "6e193583",
   "metadata": {},
   "source": [
    "## Logistic Regression"
   ]
  },
  {
   "cell_type": "code",
   "execution_count": 20,
   "id": "bd5418b3",
   "metadata": {},
   "outputs": [],
   "source": [
    "from sklearn.linear_model import LogisticRegression as lr"
   ]
  },
  {
   "cell_type": "code",
   "execution_count": 21,
   "id": "a5331c03",
   "metadata": {},
   "outputs": [],
   "source": [
    "Logistic = lr(penalty=\"l2\", max_iter=15000)"
   ]
  },
  {
   "cell_type": "code",
   "execution_count": 22,
   "id": "83b1bfda",
   "metadata": {},
   "outputs": [
    {
     "data": {
      "text/plain": [
       "LogisticRegression(max_iter=15000)"
      ]
     },
     "execution_count": 22,
     "metadata": {},
     "output_type": "execute_result"
    }
   ],
   "source": [
    "Logistic.fit(X_train, Y_train.values.ravel())"
   ]
  },
  {
   "cell_type": "code",
   "execution_count": 23,
   "id": "14eff288",
   "metadata": {},
   "outputs": [
    {
     "name": "stdout",
     "output_type": "stream",
     "text": [
      "Y_pred shape: (88647,)\n"
     ]
    }
   ],
   "source": [
    "Y_pred = Logistic.predict(X_test)\n",
    "print(\"Y_pred shape: \"+str(Y_pred.shape))"
   ]
  },
  {
   "cell_type": "code",
   "execution_count": 24,
   "id": "93ddd776",
   "metadata": {},
   "outputs": [
    {
     "name": "stdout",
     "output_type": "stream",
     "text": [
      "Y_pred shape: (88647, 1)\n"
     ]
    }
   ],
   "source": [
    "Y_pred = Y_pred.reshape(Y_pred.shape[0], 1)\n",
    "print(\"Y_pred shape: \"+str(Y_pred.shape))"
   ]
  },
  {
   "cell_type": "code",
   "execution_count": 25,
   "id": "80efc310",
   "metadata": {},
   "outputs": [
    {
     "data": {
      "text/plain": [
       "array([[53238,  4762],\n",
       "       [ 2421, 28226]], dtype=int64)"
      ]
     },
     "execution_count": 25,
     "metadata": {},
     "output_type": "execute_result"
    }
   ],
   "source": [
    "cnf = conf(Y_test, Y_pred)\n",
    "cnf"
   ]
  },
  {
   "cell_type": "code",
   "execution_count": 26,
   "id": "65b1a1dd",
   "metadata": {},
   "outputs": [
    {
     "name": "stdout",
     "output_type": "stream",
     "text": [
      "Precision Score: 0.9060737341046962\n",
      "Recall Score: 0.9194501194356651\n",
      "Accuracy Score: 0.9189707491511275\n"
     ]
    }
   ],
   "source": [
    "print(\"Precision Score: \"+str(pre(Y_test, Y_pred, average=\"macro\")))\n",
    "print(\"Recall Score: \"+str(rec(Y_test, Y_pred, average=\"macro\")))\n",
    "print(\"Accuracy Score: \"+str(accuracy_score(Y_test, Y_pred)))"
   ]
  },
  {
   "cell_type": "code",
   "execution_count": 27,
   "id": "26d9f487",
   "metadata": {},
   "outputs": [],
   "source": [
    "model.append(\"Logistic Reg\")\n",
    "accuracy.append(accuracy_score(Y_test, Y_pred))"
   ]
  },
  {
   "cell_type": "code",
   "execution_count": 28,
   "id": "c8a0cb48",
   "metadata": {},
   "outputs": [],
   "source": [
    "# acc = lg(Y_test, Y_pred)\n",
    "# print(\"The ACCURACY is: \"+str(acc))"
   ]
  },
  {
   "cell_type": "markdown",
   "id": "c813e1fd",
   "metadata": {},
   "source": [
    "## Decision Tree"
   ]
  },
  {
   "cell_type": "code",
   "execution_count": 29,
   "id": "98909e33",
   "metadata": {},
   "outputs": [],
   "source": [
    "from sklearn.tree import DecisionTreeClassifier as dec"
   ]
  },
  {
   "cell_type": "code",
   "execution_count": 30,
   "id": "c0208854",
   "metadata": {},
   "outputs": [],
   "source": [
    "decision = dec()"
   ]
  },
  {
   "cell_type": "code",
   "execution_count": 31,
   "id": "f7de451b",
   "metadata": {},
   "outputs": [
    {
     "data": {
      "text/plain": [
       "DecisionTreeClassifier()"
      ]
     },
     "execution_count": 31,
     "metadata": {},
     "output_type": "execute_result"
    }
   ],
   "source": [
    "decision.fit(X_train, Y_train)"
   ]
  },
  {
   "cell_type": "code",
   "execution_count": 32,
   "id": "5938fb21",
   "metadata": {},
   "outputs": [
    {
     "name": "stdout",
     "output_type": "stream",
     "text": [
      "Y_pred shape: (88647,)\n"
     ]
    }
   ],
   "source": [
    "Y_pred = decision.predict(X_test)\n",
    "print(\"Y_pred shape: \"+str(Y_pred.shape))"
   ]
  },
  {
   "cell_type": "code",
   "execution_count": 33,
   "id": "c0a59443",
   "metadata": {},
   "outputs": [
    {
     "name": "stdout",
     "output_type": "stream",
     "text": [
      "Y_pred shape: (88647, 1)\n"
     ]
    }
   ],
   "source": [
    "Y_pred = Y_pred.reshape(Y_pred.shape[0], 1)\n",
    "print(\"Y_pred shape: \"+str(Y_pred.shape))"
   ]
  },
  {
   "cell_type": "code",
   "execution_count": 34,
   "id": "343b327b",
   "metadata": {},
   "outputs": [
    {
     "data": {
      "text/plain": [
       "array([[57256,   744],\n",
       "       [    6, 30641]], dtype=int64)"
      ]
     },
     "execution_count": 34,
     "metadata": {},
     "output_type": "execute_result"
    }
   ],
   "source": [
    "cnf = conf(Y_test, Y_pred)\n",
    "cnf"
   ]
  },
  {
   "cell_type": "code",
   "execution_count": 35,
   "id": "aa1568a4",
   "metadata": {},
   "outputs": [
    {
     "name": "stdout",
     "output_type": "stream",
     "text": [
      "Precision Score: 0.988094813313127\n",
      "Recall Score: 0.9934883180330414\n",
      "Accuracy Score: 0.9915394768012454\n"
     ]
    }
   ],
   "source": [
    "print(\"Precision Score: \"+str(pre(Y_test, Y_pred, average=\"macro\")))\n",
    "print(\"Recall Score: \"+str(rec(Y_test, Y_pred, average=\"macro\")))\n",
    "print(\"Accuracy Score: \"+str(accuracy_score(Y_test, Y_pred)))"
   ]
  },
  {
   "cell_type": "code",
   "execution_count": 36,
   "id": "130a4801",
   "metadata": {},
   "outputs": [],
   "source": [
    "model.append(\"Decision Tree\")\n",
    "accuracy.append(accuracy_score(Y_test, Y_pred))"
   ]
  },
  {
   "cell_type": "markdown",
   "id": "fe79883a",
   "metadata": {},
   "source": [
    "## Random Forest"
   ]
  },
  {
   "cell_type": "code",
   "execution_count": 37,
   "id": "41ef794c",
   "metadata": {},
   "outputs": [],
   "source": [
    "from sklearn.ensemble import RandomForestClassifier as rand"
   ]
  },
  {
   "cell_type": "code",
   "execution_count": 38,
   "id": "3df7225c",
   "metadata": {},
   "outputs": [],
   "source": [
    "rf = rand(n_estimators=250)"
   ]
  },
  {
   "cell_type": "code",
   "execution_count": 39,
   "id": "beaafd7a",
   "metadata": {},
   "outputs": [
    {
     "data": {
      "text/plain": [
       "RandomForestClassifier(n_estimators=250)"
      ]
     },
     "execution_count": 39,
     "metadata": {},
     "output_type": "execute_result"
    }
   ],
   "source": [
    "rf.fit(X_train, Y_train.values.ravel())"
   ]
  },
  {
   "cell_type": "code",
   "execution_count": 40,
   "id": "3b7803d7",
   "metadata": {},
   "outputs": [],
   "source": [
    "Y_pred = rf.predict(X_test)\n",
    "Y_pred = Y_pred.reshape(Y_pred.shape[0], 1)"
   ]
  },
  {
   "cell_type": "code",
   "execution_count": 41,
   "id": "e0c12118",
   "metadata": {},
   "outputs": [
    {
     "data": {
      "text/plain": [
       "array([[57891,   109],\n",
       "       [    5, 30642]], dtype=int64)"
      ]
     },
     "execution_count": 41,
     "metadata": {},
     "output_type": "execute_result"
    }
   ],
   "source": [
    "cnf = conf(Y_test, Y_pred)\n",
    "cnf"
   ]
  },
  {
   "cell_type": "code",
   "execution_count": 42,
   "id": "50f18f2d",
   "metadata": {},
   "outputs": [
    {
     "name": "stdout",
     "output_type": "stream",
     "text": [
      "Precision Score: 0.9981845190361444\n",
      "Recall Score: 0.9989787707746609\n",
      "Accuracy Score: 0.9987140004737893\n"
     ]
    }
   ],
   "source": [
    "print(\"Precision Score: \"+str(pre(Y_test, Y_pred, average=\"macro\")))\n",
    "print(\"Recall Score: \"+str(rec(Y_test, Y_pred, average=\"macro\")))\n",
    "print(\"Accuracy Score: \"+str(accuracy_score(Y_test, Y_pred)))"
   ]
  },
  {
   "cell_type": "code",
   "execution_count": 43,
   "id": "f0fe90c8",
   "metadata": {},
   "outputs": [],
   "source": [
    "model.append(\"Random Forest\")\n",
    "accuracy.append(accuracy_score(Y_test, Y_pred))"
   ]
  },
  {
   "cell_type": "markdown",
   "id": "67bedd43",
   "metadata": {},
   "source": [
    "## MultiLayer Perceptron"
   ]
  },
  {
   "cell_type": "code",
   "execution_count": 44,
   "id": "047f82d6",
   "metadata": {},
   "outputs": [],
   "source": [
    "from sklearn.neural_network import MLPClassifier as mlp"
   ]
  },
  {
   "cell_type": "code",
   "execution_count": 45,
   "id": "120898b7",
   "metadata": {},
   "outputs": [],
   "source": [
    "percep = mlp(hidden_layer_sizes=(60, 45, ), alpha=0.0001, learning_rate_init=0.001)"
   ]
  },
  {
   "cell_type": "code",
   "execution_count": 46,
   "id": "25e9130b",
   "metadata": {},
   "outputs": [
    {
     "name": "stderr",
     "output_type": "stream",
     "text": [
      "C:\\Users\\gsrav\\anaconda3\\lib\\site-packages\\sklearn\\neural_network\\_multilayer_perceptron.py:692: ConvergenceWarning: Stochastic Optimizer: Maximum iterations (200) reached and the optimization hasn't converged yet.\n",
      "  warnings.warn(\n"
     ]
    },
    {
     "data": {
      "text/plain": [
       "MLPClassifier(hidden_layer_sizes=(60, 45))"
      ]
     },
     "execution_count": 46,
     "metadata": {},
     "output_type": "execute_result"
    }
   ],
   "source": [
    "percep.fit(X_train, Y_train.values.ravel())"
   ]
  },
  {
   "cell_type": "code",
   "execution_count": 47,
   "id": "5f92ecdc",
   "metadata": {},
   "outputs": [],
   "source": [
    "Y_pred = percep.predict(X_test)\n",
    "Y_pred = Y_pred.reshape(Y_pred.shape[0], 1)"
   ]
  },
  {
   "cell_type": "code",
   "execution_count": 48,
   "id": "745c0dbc",
   "metadata": {},
   "outputs": [
    {
     "data": {
      "text/plain": [
       "array([[54850,  3150],\n",
       "       [ 2444, 28203]], dtype=int64)"
      ]
     },
     "execution_count": 48,
     "metadata": {},
     "output_type": "execute_result"
    }
   ],
   "source": [
    "cnf = conf(Y_test, Y_pred)\n",
    "cnf"
   ]
  },
  {
   "cell_type": "code",
   "execution_count": 49,
   "id": "85bb6ea4",
   "metadata": {},
   "outputs": [
    {
     "name": "stdout",
     "output_type": "stream",
     "text": [
      "Precision Score: 0.9284369867821514\n",
      "Recall Score: 0.9329714305163468\n",
      "Accuracy Score: 0.936895777634889\n"
     ]
    }
   ],
   "source": [
    "print(\"Precision Score: \"+str(pre(Y_test, Y_pred, average=\"macro\")))\n",
    "print(\"Recall Score: \"+str(rec(Y_test, Y_pred, average=\"macro\")))\n",
    "print(\"Accuracy Score: \"+str(accuracy_score(Y_test, Y_pred)))"
   ]
  },
  {
   "cell_type": "code",
   "execution_count": 50,
   "id": "f85efdb6",
   "metadata": {},
   "outputs": [],
   "source": [
    "model.append(\"M-Perceptron\")\n",
    "accuracy.append(accuracy_score(Y_test, Y_pred))"
   ]
  },
  {
   "cell_type": "markdown",
   "id": "f4b51f62",
   "metadata": {},
   "source": [
    "## Boosting Algorithms"
   ]
  },
  {
   "cell_type": "code",
   "execution_count": 51,
   "id": "7240d0f4",
   "metadata": {},
   "outputs": [],
   "source": [
    "from sklearn.ensemble import GradientBoostingClassifier as gbclassifier"
   ]
  },
  {
   "cell_type": "code",
   "execution_count": 52,
   "id": "d26a3fa1",
   "metadata": {},
   "outputs": [],
   "source": [
    "gbc = gbclassifier()"
   ]
  },
  {
   "cell_type": "code",
   "execution_count": 53,
   "id": "64acaad2",
   "metadata": {},
   "outputs": [
    {
     "data": {
      "text/plain": [
       "GradientBoostingClassifier()"
      ]
     },
     "execution_count": 53,
     "metadata": {},
     "output_type": "execute_result"
    }
   ],
   "source": [
    "gbc.fit(X_train, Y_train.values.ravel())"
   ]
  },
  {
   "cell_type": "code",
   "execution_count": 54,
   "id": "15fd1918",
   "metadata": {},
   "outputs": [],
   "source": [
    "Y_pred = gbc.predict(X_test)\n",
    "Y_pred = Y_pred.reshape(Y_pred.shape[0], 1)"
   ]
  },
  {
   "cell_type": "code",
   "execution_count": 55,
   "id": "134a6715",
   "metadata": {},
   "outputs": [
    {
     "data": {
      "text/plain": [
       "array([[55946,  2054],\n",
       "       [ 1816, 28831]], dtype=int64)"
      ]
     },
     "execution_count": 55,
     "metadata": {},
     "output_type": "execute_result"
    }
   ],
   "source": [
    "cnf = conf(Y_test, Y_pred)\n",
    "cnf"
   ]
  },
  {
   "cell_type": "code",
   "execution_count": 56,
   "id": "e37267da",
   "metadata": {},
   "outputs": [
    {
     "name": "stdout",
     "output_type": "stream",
     "text": [
      "Precision Score: 0.9510279348129458\n",
      "Recall Score: 0.9526654074258267\n",
      "Accuracy Score: 0.9563437002944262\n"
     ]
    }
   ],
   "source": [
    "print(\"Precision Score: \"+str(pre(Y_test, Y_pred, average=\"macro\")))\n",
    "print(\"Recall Score: \"+str(rec(Y_test, Y_pred, average=\"macro\")))\n",
    "print(\"Accuracy Score: \"+str(accuracy_score(Y_test, Y_pred)))"
   ]
  },
  {
   "cell_type": "code",
   "execution_count": 57,
   "id": "8d6c0471",
   "metadata": {},
   "outputs": [],
   "source": [
    "model.append(\"Gradient Boosting\")\n",
    "accuracy.append(accuracy_score(Y_test, Y_pred))"
   ]
  },
  {
   "cell_type": "code",
   "execution_count": 58,
   "id": "dcaa1267",
   "metadata": {},
   "outputs": [],
   "source": [
    "# Adaboost"
   ]
  },
  {
   "cell_type": "code",
   "execution_count": 59,
   "id": "da7e6919",
   "metadata": {},
   "outputs": [],
   "source": [
    "from sklearn.ensemble import AdaBoostClassifier as abclassifier"
   ]
  },
  {
   "cell_type": "code",
   "execution_count": 60,
   "id": "3fa04198",
   "metadata": {},
   "outputs": [],
   "source": [
    "abc = abclassifier()"
   ]
  },
  {
   "cell_type": "code",
   "execution_count": 61,
   "id": "0f23111e",
   "metadata": {},
   "outputs": [
    {
     "data": {
      "text/plain": [
       "AdaBoostClassifier()"
      ]
     },
     "execution_count": 61,
     "metadata": {},
     "output_type": "execute_result"
    }
   ],
   "source": [
    "abc.fit(X_train, Y_train.values.ravel())"
   ]
  },
  {
   "cell_type": "code",
   "execution_count": 62,
   "id": "d87bf18f",
   "metadata": {},
   "outputs": [],
   "source": [
    "Y_pred = abc.predict(X_test)\n",
    "Y_pred = Y_pred.reshape(Y_pred.shape[0], 1)"
   ]
  },
  {
   "cell_type": "code",
   "execution_count": 63,
   "id": "4d78cb11",
   "metadata": {},
   "outputs": [
    {
     "data": {
      "text/plain": [
       "array([[55091,  2909],\n",
       "       [ 2607, 28040]], dtype=int64)"
      ]
     },
     "execution_count": 63,
     "metadata": {},
     "output_type": "execute_result"
    }
   ],
   "source": [
    "cnf = conf(Y_test, Y_pred)\n",
    "cnf"
   ]
  },
  {
   "cell_type": "code",
   "execution_count": 64,
   "id": "31210fc9",
   "metadata": {},
   "outputs": [
    {
     "name": "stdout",
     "output_type": "stream",
     "text": [
      "Precision Score: 0.9304115571105671\n",
      "Recall Score: 0.9323897025978805\n",
      "Accuracy Score: 0.9377756720475594\n"
     ]
    }
   ],
   "source": [
    "print(\"Precision Score: \"+str(pre(Y_test, Y_pred, average=\"macro\")))\n",
    "print(\"Recall Score: \"+str(rec(Y_test, Y_pred, average=\"macro\")))\n",
    "print(\"Accuracy Score: \"+str(accuracy_score(Y_test, Y_pred)))"
   ]
  },
  {
   "cell_type": "code",
   "execution_count": 65,
   "id": "fb1b2238",
   "metadata": {},
   "outputs": [],
   "source": [
    "model.append(\"AdaBoost\")\n",
    "accuracy.append(accuracy_score(Y_test, Y_pred))"
   ]
  },
  {
   "cell_type": "markdown",
   "id": "f74b962e",
   "metadata": {},
   "source": [
    "## Comparision Of Accuracies"
   ]
  },
  {
   "cell_type": "code",
   "execution_count": 66,
   "id": "f7c76137",
   "metadata": {},
   "outputs": [
    {
     "name": "stdout",
     "output_type": "stream",
     "text": [
      "['KNN', 'Logistic Reg', 'Decision Tree', 'Random Forest', 'M-Perceptron', 'Gradient Boosting', 'AdaBoost']\n",
      "[0.8649474883526798, 0.9189707491511275, 0.9915394768012454, 0.9987140004737893, 0.936895777634889, 0.9563437002944262, 0.9377756720475594]\n"
     ]
    }
   ],
   "source": [
    "print(model)\n",
    "print(accuracy)"
   ]
  },
  {
   "cell_type": "code",
   "execution_count": 67,
   "id": "a828971b",
   "metadata": {},
   "outputs": [],
   "source": [
    "import matplotlib.pyplot as plt"
   ]
  },
  {
   "cell_type": "code",
   "execution_count": 68,
   "id": "bb399294",
   "metadata": {},
   "outputs": [
    {
     "data": {
      "text/plain": [
       "[<matplotlib.lines.Line2D at 0x26e57988280>]"
      ]
     },
     "execution_count": 68,
     "metadata": {},
     "output_type": "execute_result"
    },
    {
     "data": {
      "image/png": "[encoded data removed]",
      "text/plain": [
       "<Figure size 1000x800 with 1 Axes>"
      ]
     },
     "metadata": {},
     "output_type": "display_data"
    }
   ],
   "source": [
    "plt.figure(figsize=(10,8))\n",
    "plt.title(\"Smaller dataset-Train Larger Dataset-Test\")\n",
    "plt.xlabel(\"Model Name\")\n",
    "plt.ylabel(\"Accuracy Score\")\n",
    "plt.plot(model, accuracy, \"or\")"
   ]
  },
  {
   "cell_type": "raw",
   "id": "4056d194",
   "metadata": {},
   "source": []
  }
 ],
 "metadata": {
  "kernelspec": {
   "display_name": "Python 3 (ipykernel)",
   "language": "python",
   "name": "python3"
  },
  "language_info": {
   "codemirror_mode": {
    "name": "ipython",
    "version": 3
   },
   "file_extension": ".py",
   "mimetype": "text/x-python",
   "name": "python",
   "nbconvert_exporter": "python",
   "pygments_lexer": "ipython3",
   "version": "3.9.12"
  }
 },
 "nbformat": 4,
 "nbformat_minor": 5
}
